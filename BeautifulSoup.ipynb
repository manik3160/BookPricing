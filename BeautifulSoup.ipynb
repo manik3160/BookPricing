{
 "cells": [
  {
   "cell_type": "code",
   "execution_count": 1,
   "id": "f521b44e-6fad-44af-aba2-16c0b77c70d7",
   "metadata": {},
   "outputs": [],
   "source": [
    "from bs4 import BeautifulSoup\n",
    "import requests"
   ]
  },
  {
   "cell_type": "code",
   "execution_count": 3,
   "id": "94a3a530-120d-4184-a12e-73df92a0072f",
   "metadata": {},
   "outputs": [],
   "source": [
    "a=requests.get(\"https://books.toscrape.com/\")"
   ]
  },
  {
   "cell_type": "code",
   "execution_count": 20,
   "id": "d3dfe288-5fbf-4d13-9449-517e03ca3c16",
   "metadata": {
    "scrolled": true
   },
   "outputs": [
    {
     "name": "stdout",
     "output_type": "stream",
     "text": [
      "Downloaded page1 successfully\n",
      "Downloaded page2 successfully\n",
      "Downloaded page3 successfully\n",
      "Downloaded page4 successfully\n",
      "Downloaded page5 successfully\n",
      "Downloaded page6 successfully\n",
      "Downloaded page7 successfully\n",
      "Downloaded page8 successfully\n",
      "Downloaded page9 successfully\n",
      "Downloaded page10 successfully\n",
      "Downloaded page11 successfully\n",
      "Downloaded page12 successfully\n",
      "Downloaded page13 successfully\n",
      "Downloaded page14 successfully\n",
      "Downloaded page15 successfully\n",
      "Downloaded page16 successfully\n",
      "Downloaded page17 successfully\n",
      "Downloaded page18 successfully\n",
      "Downloaded page19 successfully\n",
      "Downloaded page20 successfully\n",
      "Downloaded page21 successfully\n",
      "Downloaded page22 successfully\n",
      "Downloaded page23 successfully\n",
      "Downloaded page24 successfully\n",
      "Downloaded page25 successfully\n",
      "Downloaded page26 successfully\n",
      "Downloaded page27 successfully\n",
      "Downloaded page28 successfully\n",
      "Downloaded page29 successfully\n",
      "Downloaded page30 successfully\n",
      "Downloaded page31 successfully\n",
      "Downloaded page32 successfully\n",
      "Downloaded page33 successfully\n",
      "Downloaded page34 successfully\n",
      "Downloaded page35 successfully\n",
      "Downloaded page36 successfully\n",
      "Downloaded page37 successfully\n",
      "Downloaded page38 successfully\n",
      "Downloaded page39 successfully\n",
      "Downloaded page40 successfully\n",
      "Downloaded page41 successfully\n",
      "Downloaded page42 successfully\n",
      "Downloaded page43 successfully\n",
      "Downloaded page44 successfully\n",
      "Downloaded page45 successfully\n",
      "Downloaded page46 successfully\n",
      "Downloaded page47 successfully\n",
      "Downloaded page48 successfully\n",
      "Downloaded page49 successfully\n",
      "Downloaded page50 successfully\n"
     ]
    }
   ],
   "source": [
    "import os\n",
    "import requests\n",
    "\n",
    "os.makedirs(\"htmls\", exist_ok=True)\n",
    "\n",
    "for i in range(1, 51):\n",
    "    url = f\"https://books.toscrape.com/catalogue/page-{i}.html\"\n",
    "    res = requests.get(url)\n",
    "\n",
    "    if res.status_code == 200:\n",
    "        with open(f\"htmls/page{i}.html\", \"w\", encoding=\"utf-8\") as f:\n",
    "            f.write(res.text)\n",
    "        print(f\"Downloaded page{i} successfully\")\n",
    "    else:\n",
    "        print(f\"Failed to download page{i}: {res.status_code}\")\n"
   ]
  },
  {
   "cell_type": "code",
   "execution_count": 46,
   "id": "b5c3b9f3-7be2-4d33-86a9-51aa40571717",
   "metadata": {},
   "outputs": [],
   "source": [
    "from bs4 import BeautifulSoup\n",
    "items=[]\n",
    "\n",
    "with open(\"htmls/page1.html\", \"r\", encoding=\"utf-8\") as f:\n",
    "    content = f.read()\n",
    "\n",
    "soup = BeautifulSoup(content, \"html.parser\")\n",
    "\n",
    "articles = soup.find_all(\"article\", class_=\"product_pod\")\n",
    "\n",
    "for article in articles:\n",
    "    title = article.find(\"h3\").find(\"a\")[\"title\"]\n",
    "    price=article.select_one(\"p.price_color\").text.split(\"£\")[1]\n",
    "    items.append([title,price])\n"
   ]
  },
  {
   "cell_type": "code",
   "execution_count": 47,
   "id": "1bb13ce1-0cb4-4f71-ae85-6470d4f1b518",
   "metadata": {
    "scrolled": true
   },
   "outputs": [
    {
     "data": {
      "text/plain": [
       "[['A Light in the Attic', '51.77'],\n",
       " ['Tipping the Velvet', '53.74'],\n",
       " ['Soumission', '50.10'],\n",
       " ['Sharp Objects', '47.82'],\n",
       " ['Sapiens: A Brief History of Humankind', '54.23'],\n",
       " ['The Requiem Red', '22.65'],\n",
       " ['The Dirty Little Secrets of Getting Your Dream Job', '33.34'],\n",
       " ['The Coming Woman: A Novel Based on the Life of the Infamous Feminist, Victoria Woodhull',\n",
       "  '17.93'],\n",
       " ['The Boys in the Boat: Nine Americans and Their Epic Quest for Gold at the 1936 Berlin Olympics',\n",
       "  '22.60'],\n",
       " ['The Black Maria', '52.15'],\n",
       " ['Starving Hearts (Triangular Trade Trilogy, #1)', '13.99'],\n",
       " [\"Shakespeare's Sonnets\", '20.66'],\n",
       " ['Set Me Free', '17.46'],\n",
       " [\"Scott Pilgrim's Precious Little Life (Scott Pilgrim #1)\", '52.29'],\n",
       " ['Rip it Up and Start Again', '35.02'],\n",
       " ['Our Band Could Be Your Life: Scenes from the American Indie Underground, 1981-1991',\n",
       "  '57.25'],\n",
       " ['Olio', '23.88'],\n",
       " ['Mesaerion: The Best Science Fiction Stories 1800-1849', '37.59'],\n",
       " ['Libertarianism for Beginners', '51.33'],\n",
       " [\"It's Only the Himalayas\", '45.17']]"
      ]
     },
     "execution_count": 47,
     "metadata": {},
     "output_type": "execute_result"
    }
   ],
   "source": [
    "items\n"
   ]
  },
  {
   "cell_type": "code",
   "execution_count": 48,
   "id": "1b3ceaf1-0a70-4af8-9232-9adf17a88cf5",
   "metadata": {},
   "outputs": [],
   "source": [
    "import pandas as pd"
   ]
  },
  {
   "cell_type": "code",
   "execution_count": 53,
   "id": "117968c9-e03d-4ec4-bc01-fcd8e5e319b5",
   "metadata": {},
   "outputs": [],
   "source": [
    "df=pd.DataFrame(items,columns=[\"Book\",\"Price\"])"
   ]
  },
  {
   "cell_type": "code",
   "execution_count": 54,
   "id": "b8cba732-4daf-455e-85e4-1b68a272a787",
   "metadata": {},
   "outputs": [],
   "source": [
    "df.to_csv(\"data.csv\",index=False)"
   ]
  },
  {
   "cell_type": "code",
   "execution_count": null,
   "id": "ffb9a152-8041-4953-bcb0-f9870e736b2b",
   "metadata": {},
   "outputs": [],
   "source": []
  }
 ],
 "metadata": {
  "kernelspec": {
   "display_name": "Python [conda env:base] *",
   "language": "python",
   "name": "conda-base-py"
  },
  "language_info": {
   "codemirror_mode": {
    "name": "ipython",
    "version": 3
   },
   "file_extension": ".py",
   "mimetype": "text/x-python",
   "name": "python",
   "nbconvert_exporter": "python",
   "pygments_lexer": "ipython3",
   "version": "3.12.7"
  }
 },
 "nbformat": 4,
 "nbformat_minor": 5
}
